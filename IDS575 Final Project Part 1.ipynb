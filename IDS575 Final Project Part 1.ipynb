{
  "nbformat": 4,
  "nbformat_minor": 0,
  "metadata": {
    "colab": {
      "provenance": [],
      "machine_shape": "hm",
      "gpuType": "A100"
    },
    "kernelspec": {
      "name": "python3",
      "display_name": "Python 3"
    },
    "language_info": {
      "name": "python"
    },
    "accelerator": "GPU"
  },
  "cells": [
    {
      "cell_type": "code",
      "execution_count": 2,
      "metadata": {
        "colab": {
          "base_uri": "https://localhost:8080/"
        },
        "id": "UZ6ihJRt0fWZ",
        "outputId": "2ea7e73b-1c0b-44ab-98af-3d7c29d6e00a"
      },
      "outputs": [
        {
          "output_type": "stream",
          "name": "stdout",
          "text": [
            "Drive already mounted at /content/drive; to attempt to forcibly remount, call drive.mount(\"/content/drive\", force_remount=True).\n"
          ]
        }
      ],
      "source": [
        "# Step 1: Mount Google Drive\n",
        "from google.colab import drive\n",
        "drive.mount('/content/drive')"
      ]
    },
    {
      "cell_type": "code",
      "source": [
        "# Step 2: Read the file\n",
        "import pandas as pd\n",
        "\n",
        "# Set file path\n",
        "file_path = '/content/drive/My Drive/IDS 575 Final project/crimes data.csv'\n",
        "\n",
        "# Read the CSV file and parse date columns\n",
        "df = pd.read_csv(file_path, parse_dates=['Date', 'Updated On'])\n",
        "\n",
        "# Display the first few rows to confirm successful reading\n",
        "df.head()"
      ],
      "metadata": {
        "colab": {
          "base_uri": "https://localhost:8080/",
          "height": 516
        },
        "id": "j-OIENog0wlb",
        "outputId": "d10c9cab-1a6e-4812-9070-8fb15e7cbcd8"
      },
      "execution_count": 3,
      "outputs": [
        {
          "output_type": "stream",
          "name": "stderr",
          "text": [
            "<ipython-input-3-89fe39381447>:8: UserWarning: Could not infer format, so each element will be parsed individually, falling back to `dateutil`. To ensure parsing is consistent and as-expected, please specify a format.\n",
            "  df = pd.read_csv(file_path, parse_dates=['Date', 'Updated On'])\n",
            "<ipython-input-3-89fe39381447>:8: UserWarning: Could not infer format, so each element will be parsed individually, falling back to `dateutil`. To ensure parsing is consistent and as-expected, please specify a format.\n",
            "  df = pd.read_csv(file_path, parse_dates=['Date', 'Updated On'])\n"
          ]
        },
        {
          "output_type": "execute_result",
          "data": {
            "text/plain": [
              "         ID Case Number                Date                Block  IUCR  \\\n",
              "0  13707986    JJ100019 2024-12-31 23:45:00     117XX S STATE ST  0486   \n",
              "1  13707849    JJ100011 2024-12-31 23:45:00  018XX W MAYPOLE AVE  1310   \n",
              "2  13707847    JJ100007 2024-12-31 23:42:00  029XX W CHICAGO AVE  1345   \n",
              "3  13707836    JJ100034 2024-12-31 23:40:00  0000X S OAKLEY BLVD  0910   \n",
              "4  13709517    JJ101458 2024-12-31 23:34:00  047XX W HARRISON ST  1320   \n",
              "\n",
              "          Primary Type                  Description Location Description  \\\n",
              "0              BATTERY      DOMESTIC BATTERY SIMPLE            APARTMENT   \n",
              "1      CRIMINAL DAMAGE                  TO PROPERTY            APARTMENT   \n",
              "2      CRIMINAL DAMAGE  TO CITY OF CHICAGO PROPERTY              CTA BUS   \n",
              "3  MOTOR VEHICLE THEFT                   AUTOMOBILE               STREET   \n",
              "4      CRIMINAL DAMAGE                   TO VEHICLE               STREET   \n",
              "\n",
              "   Arrest  Domestic  ...  Ward  Community Area  FBI Code  X Coordinate  \\\n",
              "0   False      True  ...   9.0            53.0       08B     1178352.0   \n",
              "1   False     False  ...  27.0            28.0        14     1164081.0   \n",
              "2   False     False  ...  36.0            24.0        14     1156857.0   \n",
              "3   False     False  ...  27.0            28.0        07     1161090.0   \n",
              "4   False     False  ...  24.0            25.0        14     1144914.0   \n",
              "\n",
              "  Y Coordinate  Year          Updated On   Latitude  Longitude  \\\n",
              "0    1827293.0  2024 2025-01-08 15:42:09  41.681396 -87.622767   \n",
              "1    1901067.0  2024 2025-01-08 15:42:09  41.884152 -87.672933   \n",
              "2    1905197.0  2024 2025-01-08 15:42:09  41.895635 -87.699348   \n",
              "3    1899804.0  2024 2025-01-08 15:42:09  41.880749 -87.683951   \n",
              "4    1896933.0  2024 2025-01-08 15:42:09  41.873191 -87.743421   \n",
              "\n",
              "                        Location  \n",
              "0   (41.68139574, -87.622767037)  \n",
              "1  (41.884152322, -87.672932576)  \n",
              "2  (41.895634912, -87.699347915)  \n",
              "3  (41.880749175, -87.683950956)  \n",
              "4  (41.873191313, -87.743420863)  \n",
              "\n",
              "[5 rows x 22 columns]"
            ],
            "text/html": [
              "\n",
              "  <div id=\"df-2e2fef3b-1d06-438c-a193-f1a7a1889a1a\" class=\"colab-df-container\">\n",
              "    <div>\n",
              "<style scoped>\n",
              "    .dataframe tbody tr th:only-of-type {\n",
              "        vertical-align: middle;\n",
              "    }\n",
              "\n",
              "    .dataframe tbody tr th {\n",
              "        vertical-align: top;\n",
              "    }\n",
              "\n",
              "    .dataframe thead th {\n",
              "        text-align: right;\n",
              "    }\n",
              "</style>\n",
              "<table border=\"1\" class=\"dataframe\">\n",
              "  <thead>\n",
              "    <tr style=\"text-align: right;\">\n",
              "      <th></th>\n",
              "      <th>ID</th>\n",
              "      <th>Case Number</th>\n",
              "      <th>Date</th>\n",
              "      <th>Block</th>\n",
              "      <th>IUCR</th>\n",
              "      <th>Primary Type</th>\n",
              "      <th>Description</th>\n",
              "      <th>Location Description</th>\n",
              "      <th>Arrest</th>\n",
              "      <th>Domestic</th>\n",
              "      <th>...</th>\n",
              "      <th>Ward</th>\n",
              "      <th>Community Area</th>\n",
              "      <th>FBI Code</th>\n",
              "      <th>X Coordinate</th>\n",
              "      <th>Y Coordinate</th>\n",
              "      <th>Year</th>\n",
              "      <th>Updated On</th>\n",
              "      <th>Latitude</th>\n",
              "      <th>Longitude</th>\n",
              "      <th>Location</th>\n",
              "    </tr>\n",
              "  </thead>\n",
              "  <tbody>\n",
              "    <tr>\n",
              "      <th>0</th>\n",
              "      <td>13707986</td>\n",
              "      <td>JJ100019</td>\n",
              "      <td>2024-12-31 23:45:00</td>\n",
              "      <td>117XX S STATE ST</td>\n",
              "      <td>0486</td>\n",
              "      <td>BATTERY</td>\n",
              "      <td>DOMESTIC BATTERY SIMPLE</td>\n",
              "      <td>APARTMENT</td>\n",
              "      <td>False</td>\n",
              "      <td>True</td>\n",
              "      <td>...</td>\n",
              "      <td>9.0</td>\n",
              "      <td>53.0</td>\n",
              "      <td>08B</td>\n",
              "      <td>1178352.0</td>\n",
              "      <td>1827293.0</td>\n",
              "      <td>2024</td>\n",
              "      <td>2025-01-08 15:42:09</td>\n",
              "      <td>41.681396</td>\n",
              "      <td>-87.622767</td>\n",
              "      <td>(41.68139574, -87.622767037)</td>\n",
              "    </tr>\n",
              "    <tr>\n",
              "      <th>1</th>\n",
              "      <td>13707849</td>\n",
              "      <td>JJ100011</td>\n",
              "      <td>2024-12-31 23:45:00</td>\n",
              "      <td>018XX W MAYPOLE AVE</td>\n",
              "      <td>1310</td>\n",
              "      <td>CRIMINAL DAMAGE</td>\n",
              "      <td>TO PROPERTY</td>\n",
              "      <td>APARTMENT</td>\n",
              "      <td>False</td>\n",
              "      <td>False</td>\n",
              "      <td>...</td>\n",
              "      <td>27.0</td>\n",
              "      <td>28.0</td>\n",
              "      <td>14</td>\n",
              "      <td>1164081.0</td>\n",
              "      <td>1901067.0</td>\n",
              "      <td>2024</td>\n",
              "      <td>2025-01-08 15:42:09</td>\n",
              "      <td>41.884152</td>\n",
              "      <td>-87.672933</td>\n",
              "      <td>(41.884152322, -87.672932576)</td>\n",
              "    </tr>\n",
              "    <tr>\n",
              "      <th>2</th>\n",
              "      <td>13707847</td>\n",
              "      <td>JJ100007</td>\n",
              "      <td>2024-12-31 23:42:00</td>\n",
              "      <td>029XX W CHICAGO AVE</td>\n",
              "      <td>1345</td>\n",
              "      <td>CRIMINAL DAMAGE</td>\n",
              "      <td>TO CITY OF CHICAGO PROPERTY</td>\n",
              "      <td>CTA BUS</td>\n",
              "      <td>False</td>\n",
              "      <td>False</td>\n",
              "      <td>...</td>\n",
              "      <td>36.0</td>\n",
              "      <td>24.0</td>\n",
              "      <td>14</td>\n",
              "      <td>1156857.0</td>\n",
              "      <td>1905197.0</td>\n",
              "      <td>2024</td>\n",
              "      <td>2025-01-08 15:42:09</td>\n",
              "      <td>41.895635</td>\n",
              "      <td>-87.699348</td>\n",
              "      <td>(41.895634912, -87.699347915)</td>\n",
              "    </tr>\n",
              "    <tr>\n",
              "      <th>3</th>\n",
              "      <td>13707836</td>\n",
              "      <td>JJ100034</td>\n",
              "      <td>2024-12-31 23:40:00</td>\n",
              "      <td>0000X S OAKLEY BLVD</td>\n",
              "      <td>0910</td>\n",
              "      <td>MOTOR VEHICLE THEFT</td>\n",
              "      <td>AUTOMOBILE</td>\n",
              "      <td>STREET</td>\n",
              "      <td>False</td>\n",
              "      <td>False</td>\n",
              "      <td>...</td>\n",
              "      <td>27.0</td>\n",
              "      <td>28.0</td>\n",
              "      <td>07</td>\n",
              "      <td>1161090.0</td>\n",
              "      <td>1899804.0</td>\n",
              "      <td>2024</td>\n",
              "      <td>2025-01-08 15:42:09</td>\n",
              "      <td>41.880749</td>\n",
              "      <td>-87.683951</td>\n",
              "      <td>(41.880749175, -87.683950956)</td>\n",
              "    </tr>\n",
              "    <tr>\n",
              "      <th>4</th>\n",
              "      <td>13709517</td>\n",
              "      <td>JJ101458</td>\n",
              "      <td>2024-12-31 23:34:00</td>\n",
              "      <td>047XX W HARRISON ST</td>\n",
              "      <td>1320</td>\n",
              "      <td>CRIMINAL DAMAGE</td>\n",
              "      <td>TO VEHICLE</td>\n",
              "      <td>STREET</td>\n",
              "      <td>False</td>\n",
              "      <td>False</td>\n",
              "      <td>...</td>\n",
              "      <td>24.0</td>\n",
              "      <td>25.0</td>\n",
              "      <td>14</td>\n",
              "      <td>1144914.0</td>\n",
              "      <td>1896933.0</td>\n",
              "      <td>2024</td>\n",
              "      <td>2025-01-08 15:42:09</td>\n",
              "      <td>41.873191</td>\n",
              "      <td>-87.743421</td>\n",
              "      <td>(41.873191313, -87.743420863)</td>\n",
              "    </tr>\n",
              "  </tbody>\n",
              "</table>\n",
              "<p>5 rows × 22 columns</p>\n",
              "</div>\n",
              "    <div class=\"colab-df-buttons\">\n",
              "\n",
              "  <div class=\"colab-df-container\">\n",
              "    <button class=\"colab-df-convert\" onclick=\"convertToInteractive('df-2e2fef3b-1d06-438c-a193-f1a7a1889a1a')\"\n",
              "            title=\"Convert this dataframe to an interactive table.\"\n",
              "            style=\"display:none;\">\n",
              "\n",
              "  <svg xmlns=\"http://www.w3.org/2000/svg\" height=\"24px\" viewBox=\"0 -960 960 960\">\n",
              "    <path d=\"M120-120v-720h720v720H120Zm60-500h600v-160H180v160Zm220 220h160v-160H400v160Zm0 220h160v-160H400v160ZM180-400h160v-160H180v160Zm440 0h160v-160H620v160ZM180-180h160v-160H180v160Zm440 0h160v-160H620v160Z\"/>\n",
              "  </svg>\n",
              "    </button>\n",
              "\n",
              "  <style>\n",
              "    .colab-df-container {\n",
              "      display:flex;\n",
              "      gap: 12px;\n",
              "    }\n",
              "\n",
              "    .colab-df-convert {\n",
              "      background-color: #E8F0FE;\n",
              "      border: none;\n",
              "      border-radius: 50%;\n",
              "      cursor: pointer;\n",
              "      display: none;\n",
              "      fill: #1967D2;\n",
              "      height: 32px;\n",
              "      padding: 0 0 0 0;\n",
              "      width: 32px;\n",
              "    }\n",
              "\n",
              "    .colab-df-convert:hover {\n",
              "      background-color: #E2EBFA;\n",
              "      box-shadow: 0px 1px 2px rgba(60, 64, 67, 0.3), 0px 1px 3px 1px rgba(60, 64, 67, 0.15);\n",
              "      fill: #174EA6;\n",
              "    }\n",
              "\n",
              "    .colab-df-buttons div {\n",
              "      margin-bottom: 4px;\n",
              "    }\n",
              "\n",
              "    [theme=dark] .colab-df-convert {\n",
              "      background-color: #3B4455;\n",
              "      fill: #D2E3FC;\n",
              "    }\n",
              "\n",
              "    [theme=dark] .colab-df-convert:hover {\n",
              "      background-color: #434B5C;\n",
              "      box-shadow: 0px 1px 3px 1px rgba(0, 0, 0, 0.15);\n",
              "      filter: drop-shadow(0px 1px 2px rgba(0, 0, 0, 0.3));\n",
              "      fill: #FFFFFF;\n",
              "    }\n",
              "  </style>\n",
              "\n",
              "    <script>\n",
              "      const buttonEl =\n",
              "        document.querySelector('#df-2e2fef3b-1d06-438c-a193-f1a7a1889a1a button.colab-df-convert');\n",
              "      buttonEl.style.display =\n",
              "        google.colab.kernel.accessAllowed ? 'block' : 'none';\n",
              "\n",
              "      async function convertToInteractive(key) {\n",
              "        const element = document.querySelector('#df-2e2fef3b-1d06-438c-a193-f1a7a1889a1a');\n",
              "        const dataTable =\n",
              "          await google.colab.kernel.invokeFunction('convertToInteractive',\n",
              "                                                    [key], {});\n",
              "        if (!dataTable) return;\n",
              "\n",
              "        const docLinkHtml = 'Like what you see? Visit the ' +\n",
              "          '<a target=\"_blank\" href=https://colab.research.google.com/notebooks/data_table.ipynb>data table notebook</a>'\n",
              "          + ' to learn more about interactive tables.';\n",
              "        element.innerHTML = '';\n",
              "        dataTable['output_type'] = 'display_data';\n",
              "        await google.colab.output.renderOutput(dataTable, element);\n",
              "        const docLink = document.createElement('div');\n",
              "        docLink.innerHTML = docLinkHtml;\n",
              "        element.appendChild(docLink);\n",
              "      }\n",
              "    </script>\n",
              "  </div>\n",
              "\n",
              "\n",
              "<div id=\"df-36a45758-6f0e-4145-8166-2dca86476c9c\">\n",
              "  <button class=\"colab-df-quickchart\" onclick=\"quickchart('df-36a45758-6f0e-4145-8166-2dca86476c9c')\"\n",
              "            title=\"Suggest charts\"\n",
              "            style=\"display:none;\">\n",
              "\n",
              "<svg xmlns=\"http://www.w3.org/2000/svg\" height=\"24px\"viewBox=\"0 0 24 24\"\n",
              "     width=\"24px\">\n",
              "    <g>\n",
              "        <path d=\"M19 3H5c-1.1 0-2 .9-2 2v14c0 1.1.9 2 2 2h14c1.1 0 2-.9 2-2V5c0-1.1-.9-2-2-2zM9 17H7v-7h2v7zm4 0h-2V7h2v10zm4 0h-2v-4h2v4z\"/>\n",
              "    </g>\n",
              "</svg>\n",
              "  </button>\n",
              "\n",
              "<style>\n",
              "  .colab-df-quickchart {\n",
              "      --bg-color: #E8F0FE;\n",
              "      --fill-color: #1967D2;\n",
              "      --hover-bg-color: #E2EBFA;\n",
              "      --hover-fill-color: #174EA6;\n",
              "      --disabled-fill-color: #AAA;\n",
              "      --disabled-bg-color: #DDD;\n",
              "  }\n",
              "\n",
              "  [theme=dark] .colab-df-quickchart {\n",
              "      --bg-color: #3B4455;\n",
              "      --fill-color: #D2E3FC;\n",
              "      --hover-bg-color: #434B5C;\n",
              "      --hover-fill-color: #FFFFFF;\n",
              "      --disabled-bg-color: #3B4455;\n",
              "      --disabled-fill-color: #666;\n",
              "  }\n",
              "\n",
              "  .colab-df-quickchart {\n",
              "    background-color: var(--bg-color);\n",
              "    border: none;\n",
              "    border-radius: 50%;\n",
              "    cursor: pointer;\n",
              "    display: none;\n",
              "    fill: var(--fill-color);\n",
              "    height: 32px;\n",
              "    padding: 0;\n",
              "    width: 32px;\n",
              "  }\n",
              "\n",
              "  .colab-df-quickchart:hover {\n",
              "    background-color: var(--hover-bg-color);\n",
              "    box-shadow: 0 1px 2px rgba(60, 64, 67, 0.3), 0 1px 3px 1px rgba(60, 64, 67, 0.15);\n",
              "    fill: var(--button-hover-fill-color);\n",
              "  }\n",
              "\n",
              "  .colab-df-quickchart-complete:disabled,\n",
              "  .colab-df-quickchart-complete:disabled:hover {\n",
              "    background-color: var(--disabled-bg-color);\n",
              "    fill: var(--disabled-fill-color);\n",
              "    box-shadow: none;\n",
              "  }\n",
              "\n",
              "  .colab-df-spinner {\n",
              "    border: 2px solid var(--fill-color);\n",
              "    border-color: transparent;\n",
              "    border-bottom-color: var(--fill-color);\n",
              "    animation:\n",
              "      spin 1s steps(1) infinite;\n",
              "  }\n",
              "\n",
              "  @keyframes spin {\n",
              "    0% {\n",
              "      border-color: transparent;\n",
              "      border-bottom-color: var(--fill-color);\n",
              "      border-left-color: var(--fill-color);\n",
              "    }\n",
              "    20% {\n",
              "      border-color: transparent;\n",
              "      border-left-color: var(--fill-color);\n",
              "      border-top-color: var(--fill-color);\n",
              "    }\n",
              "    30% {\n",
              "      border-color: transparent;\n",
              "      border-left-color: var(--fill-color);\n",
              "      border-top-color: var(--fill-color);\n",
              "      border-right-color: var(--fill-color);\n",
              "    }\n",
              "    40% {\n",
              "      border-color: transparent;\n",
              "      border-right-color: var(--fill-color);\n",
              "      border-top-color: var(--fill-color);\n",
              "    }\n",
              "    60% {\n",
              "      border-color: transparent;\n",
              "      border-right-color: var(--fill-color);\n",
              "    }\n",
              "    80% {\n",
              "      border-color: transparent;\n",
              "      border-right-color: var(--fill-color);\n",
              "      border-bottom-color: var(--fill-color);\n",
              "    }\n",
              "    90% {\n",
              "      border-color: transparent;\n",
              "      border-bottom-color: var(--fill-color);\n",
              "    }\n",
              "  }\n",
              "</style>\n",
              "\n",
              "  <script>\n",
              "    async function quickchart(key) {\n",
              "      const quickchartButtonEl =\n",
              "        document.querySelector('#' + key + ' button');\n",
              "      quickchartButtonEl.disabled = true;  // To prevent multiple clicks.\n",
              "      quickchartButtonEl.classList.add('colab-df-spinner');\n",
              "      try {\n",
              "        const charts = await google.colab.kernel.invokeFunction(\n",
              "            'suggestCharts', [key], {});\n",
              "      } catch (error) {\n",
              "        console.error('Error during call to suggestCharts:', error);\n",
              "      }\n",
              "      quickchartButtonEl.classList.remove('colab-df-spinner');\n",
              "      quickchartButtonEl.classList.add('colab-df-quickchart-complete');\n",
              "    }\n",
              "    (() => {\n",
              "      let quickchartButtonEl =\n",
              "        document.querySelector('#df-36a45758-6f0e-4145-8166-2dca86476c9c button');\n",
              "      quickchartButtonEl.style.display =\n",
              "        google.colab.kernel.accessAllowed ? 'block' : 'none';\n",
              "    })();\n",
              "  </script>\n",
              "</div>\n",
              "\n",
              "    </div>\n",
              "  </div>\n"
            ],
            "application/vnd.google.colaboratory.intrinsic+json": {
              "type": "dataframe",
              "variable_name": "df"
            }
          },
          "metadata": {},
          "execution_count": 3
        }
      ]
    },
    {
      "cell_type": "code",
      "source": [
        "# Step 3: Check for missing values in each column\n",
        "missing = df.isnull().sum()\n",
        "print(\"Missing values per column:\\n\", missing)\n",
        "\n",
        "# Fields to pay special attention to:\n",
        "important_fields = ['Date', 'Primary Type', 'Community Area', 'Latitude', 'Longitude', 'Arrest']\n",
        "print(\"Missing values in key fields:\\n\", df[important_fields].isnull().sum())"
      ],
      "metadata": {
        "colab": {
          "base_uri": "https://localhost:8080/"
        },
        "id": "Uiu4lJJa0048",
        "outputId": "7dae5b4f-5a03-44e4-b493-7c3facb7db97"
      },
      "execution_count": 8,
      "outputs": [
        {
          "output_type": "stream",
          "name": "stdout",
          "text": [
            "Missing values per column:\n",
            " ID                         0\n",
            "Case Number                0\n",
            "Date                       0\n",
            "Block                      0\n",
            "IUCR                       0\n",
            "Primary Type               0\n",
            "Description                0\n",
            "Location Description    3405\n",
            "Arrest                     0\n",
            "Domestic                   0\n",
            "Beat                       0\n",
            "District                   0\n",
            "Ward                      13\n",
            "Community Area             2\n",
            "FBI Code                   0\n",
            "X Coordinate            6485\n",
            "Y Coordinate            6485\n",
            "Year                       0\n",
            "Updated On                 0\n",
            "Latitude                6485\n",
            "Longitude               6485\n",
            "Location                6485\n",
            "dtype: int64\n",
            "Missing values in key fields:\n",
            " Date                 0\n",
            "Primary Type         0\n",
            "Community Area       2\n",
            "Latitude          6485\n",
            "Longitude         6485\n",
            "Arrest               0\n",
            "dtype: int64\n"
          ]
        }
      ]
    },
    {
      "cell_type": "code",
      "source": [
        "# Step 4: Confirm that dates fall between 2022-01-01 and 2024-12-31\n",
        "df['Date'] = pd.to_datetime(df['Date'], errors='coerce')  # Force conversion to datetime type\n",
        "date_min = df['Date'].min()\n",
        "date_max = df['Date'].max()\n",
        "\n",
        "print(f\"Earliest date in the dataset: {date_min}\")\n",
        "print(f\"Latest date in the dataset: {date_max}\")\n",
        "\n",
        "# Check for records outside the date range\n",
        "mask = (df['Date'] < '2022-01-01') | (df['Date'] > '2024-12-31')\n",
        "print(f\"Number of records outside the date range: {df[mask].shape[0]}\")"
      ],
      "metadata": {
        "colab": {
          "base_uri": "https://localhost:8080/"
        },
        "id": "U0Ui9RoP06gl",
        "outputId": "d4a67307-021a-4926-d938-009f0f3fd2af"
      },
      "execution_count": 10,
      "outputs": [
        {
          "output_type": "stream",
          "name": "stdout",
          "text": [
            "Earliest date in the dataset: 2022-01-01 00:00:00\n",
            "Latest date in the dataset: 2024-12-31 23:45:00\n",
            "Number of records outside the date range: 553\n"
          ]
        }
      ]
    },
    {
      "cell_type": "code",
      "source": [
        "# Step 5: Check data types of each column\n",
        "print(\"Column data types:\")\n",
        "print(df.dtypes)\n",
        "\n",
        "# Ensure 'Arrest' is of boolean type; convert if not\n",
        "if df['Arrest'].dtype != 'bool':\n",
        "    df['Arrest'] = df['Arrest'].astype(bool)\n",
        "    print(\"Column 'Arrest' has been converted to boolean.\")"
      ],
      "metadata": {
        "colab": {
          "base_uri": "https://localhost:8080/"
        },
        "id": "AeN_O2yD09I0",
        "outputId": "dd153546-7fe1-4953-e962-cfe0c36d5901"
      },
      "execution_count": 11,
      "outputs": [
        {
          "output_type": "stream",
          "name": "stdout",
          "text": [
            "Column data types:\n",
            "ID                               int64\n",
            "Case Number                     object\n",
            "Date                    datetime64[ns]\n",
            "Block                           object\n",
            "IUCR                            object\n",
            "Primary Type                    object\n",
            "Description                     object\n",
            "Location Description            object\n",
            "Arrest                            bool\n",
            "Domestic                          bool\n",
            "Beat                             int64\n",
            "District                         int64\n",
            "Ward                           float64\n",
            "Community Area                 float64\n",
            "FBI Code                        object\n",
            "X Coordinate                   float64\n",
            "Y Coordinate                   float64\n",
            "Year                             int64\n",
            "Updated On              datetime64[ns]\n",
            "Latitude                       float64\n",
            "Longitude                      float64\n",
            "Location                        object\n",
            "dtype: object\n"
          ]
        }
      ]
    },
    {
      "cell_type": "code",
      "source": [
        "# Step 6: Check for missing or invalid latitude/longitude values\n",
        "invalid_lat = df['Latitude'].isnull() | (df['Latitude'] < 40) | (df['Latitude'] > 43)\n",
        "invalid_lon = df['Longitude'].isnull() | (df['Longitude'] < -88) | (df['Longitude'] > -87)\n",
        "\n",
        "print(f\"Number of invalid Latitude records: {invalid_lat.sum()}\")\n",
        "print(f\"Number of invalid Longitude records: {invalid_lon.sum()}\")"
      ],
      "metadata": {
        "colab": {
          "base_uri": "https://localhost:8080/"
        },
        "id": "6EYHn9Es0-VT",
        "outputId": "a5e0beb5-f063-4ec6-c02c-73fe1cbf78ef"
      },
      "execution_count": 12,
      "outputs": [
        {
          "output_type": "stream",
          "name": "stdout",
          "text": [
            "Number of invalid Latitude records: 6487\n",
            "Number of invalid Longitude records: 6487\n"
          ]
        }
      ]
    },
    {
      "cell_type": "code",
      "source": [
        "# Step 7: Check how many unique Community Areas there are\n",
        "print(\"Number of unique Community Areas:\", df['Community Area'].nunique())\n",
        "print(\"List of unique Community Area IDs:\", sorted(df['Community Area'].dropna().unique()))"
      ],
      "metadata": {
        "colab": {
          "base_uri": "https://localhost:8080/"
        },
        "id": "iZm6H33o1AMn",
        "outputId": "1d59b2de-7a51-485e-ebb6-3a2813fcaef8"
      },
      "execution_count": 13,
      "outputs": [
        {
          "output_type": "stream",
          "name": "stdout",
          "text": [
            "Number of unique Community Areas: 77\n",
            "List of unique Community Area IDs: [np.float64(1.0), np.float64(2.0), np.float64(3.0), np.float64(4.0), np.float64(5.0), np.float64(6.0), np.float64(7.0), np.float64(8.0), np.float64(9.0), np.float64(10.0), np.float64(11.0), np.float64(12.0), np.float64(13.0), np.float64(14.0), np.float64(15.0), np.float64(16.0), np.float64(17.0), np.float64(18.0), np.float64(19.0), np.float64(20.0), np.float64(21.0), np.float64(22.0), np.float64(23.0), np.float64(24.0), np.float64(25.0), np.float64(26.0), np.float64(27.0), np.float64(28.0), np.float64(29.0), np.float64(30.0), np.float64(31.0), np.float64(32.0), np.float64(33.0), np.float64(34.0), np.float64(35.0), np.float64(36.0), np.float64(37.0), np.float64(38.0), np.float64(39.0), np.float64(40.0), np.float64(41.0), np.float64(42.0), np.float64(43.0), np.float64(44.0), np.float64(45.0), np.float64(46.0), np.float64(47.0), np.float64(48.0), np.float64(49.0), np.float64(50.0), np.float64(51.0), np.float64(52.0), np.float64(53.0), np.float64(54.0), np.float64(55.0), np.float64(56.0), np.float64(57.0), np.float64(58.0), np.float64(59.0), np.float64(60.0), np.float64(61.0), np.float64(62.0), np.float64(63.0), np.float64(64.0), np.float64(65.0), np.float64(66.0), np.float64(67.0), np.float64(68.0), np.float64(69.0), np.float64(70.0), np.float64(71.0), np.float64(72.0), np.float64(73.0), np.float64(74.0), np.float64(75.0), np.float64(76.0), np.float64(77.0)]\n"
          ]
        }
      ]
    },
    {
      "cell_type": "code",
      "source": [
        "# Keep only data within the specified date range"
      ],
      "metadata": {
        "id": "MtJtpnEd3UYK"
      },
      "execution_count": null,
      "outputs": []
    },
    {
      "cell_type": "code",
      "source": [
        "df = df[(df['Date'] >= '2022-01-01') & (df['Date'] <= '2024-12-31')]"
      ],
      "metadata": {
        "id": "wHyzBAV93W4_"
      },
      "execution_count": 14,
      "outputs": []
    },
    {
      "cell_type": "code",
      "source": [
        "# Remove records with missing Community Area values"
      ],
      "metadata": {
        "id": "-GrD8baP3YQP"
      },
      "execution_count": null,
      "outputs": []
    },
    {
      "cell_type": "code",
      "source": [
        "df = df[df['Community Area'].notnull()]\n",
        "df['Community Area'] = df['Community Area'].astype(int)"
      ],
      "metadata": {
        "colab": {
          "base_uri": "https://localhost:8080/"
        },
        "id": "RTFkZfwA3YOj",
        "outputId": "a85d51d0-b5c5-4cb6-97a9-f5b5ce12c653"
      },
      "execution_count": 15,
      "outputs": [
        {
          "output_type": "stream",
          "name": "stderr",
          "text": [
            "<ipython-input-15-205353014c67>:2: SettingWithCopyWarning: \n",
            "A value is trying to be set on a copy of a slice from a DataFrame.\n",
            "Try using .loc[row_indexer,col_indexer] = value instead\n",
            "\n",
            "See the caveats in the documentation: https://pandas.pydata.org/pandas-docs/stable/user_guide/indexing.html#returning-a-view-versus-a-copy\n",
            "  df['Community Area'] = df['Community Area'].astype(int)\n"
          ]
        }
      ]
    },
    {
      "cell_type": "code",
      "source": [
        "# Remove records with missing or invalid latitude/longitude"
      ],
      "metadata": {
        "id": "kjS2-3HC3bZk"
      },
      "execution_count": null,
      "outputs": []
    },
    {
      "cell_type": "code",
      "source": [
        "df = df[\n",
        "    (df['Latitude'].notnull()) & (df['Longitude'].notnull()) &\n",
        "    (df['Latitude'] >= 40) & (df['Latitude'] <= 43) &\n",
        "    (df['Longitude'] >= -88) & (df['Longitude'] <= -87)\n",
        "]"
      ],
      "metadata": {
        "id": "04tZxxZq3cx2"
      },
      "execution_count": 16,
      "outputs": []
    },
    {
      "cell_type": "code",
      "source": [
        "print(f\"Current number of records: {len(df)}\")"
      ],
      "metadata": {
        "colab": {
          "base_uri": "https://localhost:8080/"
        },
        "id": "-3iut3Am3qdo",
        "outputId": "5b86d503-40f6-4dfd-b3cf-1678a112f2e2"
      },
      "execution_count": 17,
      "outputs": [
        {
          "output_type": "stream",
          "name": "stdout",
          "text": [
            "Current number of records: 753001\n"
          ]
        }
      ]
    },
    {
      "cell_type": "code",
      "source": [
        "print(f\"Earliest date: {df['Date'].min()}\")\n",
        "print(f\"Latest date: {df['Date'].max()}\")"
      ],
      "metadata": {
        "colab": {
          "base_uri": "https://localhost:8080/"
        },
        "id": "L7fvmg_-3rrv",
        "outputId": "8cdc2ac0-30e8-402e-f0cd-32e58daf01f7"
      },
      "execution_count": 18,
      "outputs": [
        {
          "output_type": "stream",
          "name": "stdout",
          "text": [
            "Earliest date: 2022-01-01 00:00:00\n",
            "Latest date: 2024-12-31 00:00:00\n"
          ]
        }
      ]
    },
    {
      "cell_type": "code",
      "source": [
        "print(\"Number of abnormal Latitude values:\", ((df['Latitude'] < 40) | (df['Latitude'] > 43)).sum())\n",
        "print(\"Number of abnormal Longitude values:\", ((df['Longitude'] < -88) | (df['Longitude'] > -87)).sum())"
      ],
      "metadata": {
        "colab": {
          "base_uri": "https://localhost:8080/"
        },
        "id": "QPgFLLL_3tNL",
        "outputId": "31f7eac0-7bba-4de3-e868-a96129aa692c"
      },
      "execution_count": 19,
      "outputs": [
        {
          "output_type": "stream",
          "name": "stdout",
          "text": [
            "Number of abnormal Latitude values: 0\n",
            "Number of abnormal Longitude values: 0\n"
          ]
        }
      ]
    },
    {
      "cell_type": "code",
      "source": [
        "print(\"Minimum Community Area value:\", df['Community Area'].min())\n",
        "print(\"Maximum Community Area value:\", df['Community Area'].max())\n",
        "print(\"Number of unique Community Areas:\", df['Community Area'].nunique())"
      ],
      "metadata": {
        "colab": {
          "base_uri": "https://localhost:8080/"
        },
        "id": "vYa95hqF3uzO",
        "outputId": "79ada93d-9b63-4acf-d71c-30063b1d7bc3"
      },
      "execution_count": 20,
      "outputs": [
        {
          "output_type": "stream",
          "name": "stdout",
          "text": [
            "Minimum Community Area value: 1\n",
            "Maximum Community Area value: 77\n",
            "Number of unique Community Areas: 77\n"
          ]
        }
      ]
    },
    {
      "cell_type": "code",
      "source": [
        "# Set new save path\n",
        "save_path = '/content/drive/My Drive/IDS 575 Final project/cleaned_crimes_data.csv'\n",
        "\n",
        "# Save as a new CSV file\n",
        "df.to_csv(save_path, index=False)\n",
        "\n",
        "# Confirm successful save\n",
        "print(f\"File has been saved to: {save_path}\")"
      ],
      "metadata": {
        "colab": {
          "base_uri": "https://localhost:8080/"
        },
        "id": "uAfhOXil3_Oz",
        "outputId": "914c0e12-4d48-4b7c-c184-3da57a3501f2"
      },
      "execution_count": 21,
      "outputs": [
        {
          "output_type": "stream",
          "name": "stdout",
          "text": [
            "File has been saved to: /content/drive/My Drive/IDS 575 Final project/cleaned_crimes_data.csv\n"
          ]
        }
      ]
    }
  ]
}