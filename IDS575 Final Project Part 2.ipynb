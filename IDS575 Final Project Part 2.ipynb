{
  "nbformat": 4,
  "nbformat_minor": 0,
  "metadata": {
    "colab": {
      "provenance": [],
      "machine_shape": "hm",
      "gpuType": "A100"
    },
    "kernelspec": {
      "name": "python3",
      "display_name": "Python 3"
    },
    "language_info": {
      "name": "python"
    },
    "accelerator": "GPU"
  },
  "cells": [
    {
      "cell_type": "markdown",
      "source": [
        "CRS = w1*C + w2*S + w3*T + w4*A\n",
        "\n",
        "A higher C (total number of crimes) indicates more danger → should increase risk → penalize\n",
        "\n",
        "A higher S (violent crime ratio) means more violence → more dangerous → penalize\n",
        "\n",
        "A higher T (nighttime crime ratio) means more crimes at night → riskier → penalize\n",
        "\n",
        "A higher A (arrest rate) implies better law enforcement and safety → should reduce risk\n",
        "\n",
        "So, to ensure that a higher CRS means higher risk, we need to reverse the direction of A’s impact.\n",
        "That is, use (1 - A) to reflect that lower arrest rates imply higher risk.\n",
        "\n",
        "Updated formula：CRS = w1*C + w2*S + w3*T + w4*(1-A)"
      ],
      "metadata": {
        "id": "KfCfcsQm_vUi"
      }
    },
    {
      "cell_type": "code",
      "execution_count": 2,
      "metadata": {
        "id": "7NfwaBn2-P5l"
      },
      "outputs": [],
      "source": [
        "import pandas as pd"
      ]
    },
    {
      "cell_type": "code",
      "source": [
        "from google.colab import drive\n",
        "drive.mount('/content/drive')"
      ],
      "metadata": {
        "colab": {
          "base_uri": "https://localhost:8080/"
        },
        "id": "Dd89hwUh_TDL",
        "outputId": "6b99f3c9-5364-40f1-d714-8e020686074d"
      },
      "execution_count": 3,
      "outputs": [
        {
          "output_type": "stream",
          "name": "stdout",
          "text": [
            "Drive already mounted at /content/drive; to attempt to forcibly remount, call drive.mount(\"/content/drive\", force_remount=True).\n"
          ]
        }
      ]
    },
    {
      "cell_type": "code",
      "source": [
        "# Step 1.1: Read the cleaned data"
      ],
      "metadata": {
        "id": "k6RFxs78_aa1"
      },
      "execution_count": null,
      "outputs": []
    },
    {
      "cell_type": "code",
      "source": [
        "# Set file path\n",
        "file_path = '/content/drive/My Drive/IDS 575 Final project/cleaned_crimes_data.csv'\n",
        "\n",
        "# Read CSV file and parse date columns\n",
        "df = pd.read_csv(file_path, parse_dates=['Date', 'Updated On'])\n",
        "\n",
        "df.head()"
      ],
      "metadata": {
        "colab": {
          "base_uri": "https://localhost:8080/",
          "height": 481
        },
        "id": "56xLjUo4_Ot4",
        "outputId": "86895819-5d50-466b-fd9f-1bb5cafbae75"
      },
      "execution_count": 4,
      "outputs": [
        {
          "output_type": "execute_result",
          "data": {
            "text/plain": [
              "         ID Case Number       Date                Block  IUCR  \\\n",
              "0  13751906    JJ148279 2024-12-31   047XX S JUSTINE ST  0890   \n",
              "1  13737151    JJ134861 2024-12-31  066XX N Olmsted ave  1153   \n",
              "2  13732732    JJ129829 2024-12-31      030XX W 53RD PL  2826   \n",
              "3  13728836    JJ123618 2024-12-31   071XX S VERNON AVE  1152   \n",
              "4  13724075    JJ119468 2024-12-31   052XX S PULASKI RD  0281   \n",
              "\n",
              "              Primary Type                          Description  \\\n",
              "0                    THEFT                        FROM BUILDING   \n",
              "1       DECEPTIVE PRACTICE  FINANCIAL IDENTITY THEFT OVER $ 300   \n",
              "2            OTHER OFFENSE       HARASSMENT BY ELECTRONIC MEANS   \n",
              "3       DECEPTIVE PRACTICE                ILLEGAL USE CASH CARD   \n",
              "4  CRIMINAL SEXUAL ASSAULT                       NON-AGGRAVATED   \n",
              "\n",
              "                     Location Description  Arrest  Domestic  ...  Ward  \\\n",
              "0                       CONSTRUCTION SITE   False     False  ...  20.0   \n",
              "1                                     NaN   False     False  ...  41.0   \n",
              "2                               RESIDENCE   False      True  ...  14.0   \n",
              "3                               APARTMENT   False     False  ...   6.0   \n",
              "4  PARKING LOT / GARAGE (NON RESIDENTIAL)   False      True  ...  23.0   \n",
              "\n",
              "   Community Area  FBI Code  X Coordinate Y Coordinate  Year  \\\n",
              "0              61        06     1166798.0    1873451.0  2024   \n",
              "1               9        11     1125425.0    1943135.0  2024   \n",
              "2              63        26     1156929.0    1869004.0  2024   \n",
              "3              69        11     1180479.0    1857851.0  2024   \n",
              "4              62        02     1150587.0    1869670.0  2024   \n",
              "\n",
              "           Updated On   Latitude  Longitude                       Location  \n",
              "0 2025-02-21 15:40:32  41.808314 -87.663746  (41.808313612, -87.663746144)  \n",
              "1 2025-02-05 15:42:18  42.000321 -87.813948  (42.000320673, -87.813948185)  \n",
              "2 2025-01-31 15:40:40  41.796316 -87.700064  (41.796315735, -87.700063673)  \n",
              "3 2025-01-27 15:40:44  41.765202 -87.614046  (41.765202297, -87.614046499)  \n",
              "4 2025-01-22 15:41:07  41.798269 -87.723303   (41.79826919, -87.723303209)  \n",
              "\n",
              "[5 rows x 22 columns]"
            ],
            "text/html": [
              "\n",
              "  <div id=\"df-a7a21530-1b02-4961-be4a-7175bd56fc68\" class=\"colab-df-container\">\n",
              "    <div>\n",
              "<style scoped>\n",
              "    .dataframe tbody tr th:only-of-type {\n",
              "        vertical-align: middle;\n",
              "    }\n",
              "\n",
              "    .dataframe tbody tr th {\n",
              "        vertical-align: top;\n",
              "    }\n",
              "\n",
              "    .dataframe thead th {\n",
              "        text-align: right;\n",
              "    }\n",
              "</style>\n",
              "<table border=\"1\" class=\"dataframe\">\n",
              "  <thead>\n",
              "    <tr style=\"text-align: right;\">\n",
              "      <th></th>\n",
              "      <th>ID</th>\n",
              "      <th>Case Number</th>\n",
              "      <th>Date</th>\n",
              "      <th>Block</th>\n",
              "      <th>IUCR</th>\n",
              "      <th>Primary Type</th>\n",
              "      <th>Description</th>\n",
              "      <th>Location Description</th>\n",
              "      <th>Arrest</th>\n",
              "      <th>Domestic</th>\n",
              "      <th>...</th>\n",
              "      <th>Ward</th>\n",
              "      <th>Community Area</th>\n",
              "      <th>FBI Code</th>\n",
              "      <th>X Coordinate</th>\n",
              "      <th>Y Coordinate</th>\n",
              "      <th>Year</th>\n",
              "      <th>Updated On</th>\n",
              "      <th>Latitude</th>\n",
              "      <th>Longitude</th>\n",
              "      <th>Location</th>\n",
              "    </tr>\n",
              "  </thead>\n",
              "  <tbody>\n",
              "    <tr>\n",
              "      <th>0</th>\n",
              "      <td>13751906</td>\n",
              "      <td>JJ148279</td>\n",
              "      <td>2024-12-31</td>\n",
              "      <td>047XX S JUSTINE ST</td>\n",
              "      <td>0890</td>\n",
              "      <td>THEFT</td>\n",
              "      <td>FROM BUILDING</td>\n",
              "      <td>CONSTRUCTION SITE</td>\n",
              "      <td>False</td>\n",
              "      <td>False</td>\n",
              "      <td>...</td>\n",
              "      <td>20.0</td>\n",
              "      <td>61</td>\n",
              "      <td>06</td>\n",
              "      <td>1166798.0</td>\n",
              "      <td>1873451.0</td>\n",
              "      <td>2024</td>\n",
              "      <td>2025-02-21 15:40:32</td>\n",
              "      <td>41.808314</td>\n",
              "      <td>-87.663746</td>\n",
              "      <td>(41.808313612, -87.663746144)</td>\n",
              "    </tr>\n",
              "    <tr>\n",
              "      <th>1</th>\n",
              "      <td>13737151</td>\n",
              "      <td>JJ134861</td>\n",
              "      <td>2024-12-31</td>\n",
              "      <td>066XX N Olmsted ave</td>\n",
              "      <td>1153</td>\n",
              "      <td>DECEPTIVE PRACTICE</td>\n",
              "      <td>FINANCIAL IDENTITY THEFT OVER $ 300</td>\n",
              "      <td>NaN</td>\n",
              "      <td>False</td>\n",
              "      <td>False</td>\n",
              "      <td>...</td>\n",
              "      <td>41.0</td>\n",
              "      <td>9</td>\n",
              "      <td>11</td>\n",
              "      <td>1125425.0</td>\n",
              "      <td>1943135.0</td>\n",
              "      <td>2024</td>\n",
              "      <td>2025-02-05 15:42:18</td>\n",
              "      <td>42.000321</td>\n",
              "      <td>-87.813948</td>\n",
              "      <td>(42.000320673, -87.813948185)</td>\n",
              "    </tr>\n",
              "    <tr>\n",
              "      <th>2</th>\n",
              "      <td>13732732</td>\n",
              "      <td>JJ129829</td>\n",
              "      <td>2024-12-31</td>\n",
              "      <td>030XX W 53RD PL</td>\n",
              "      <td>2826</td>\n",
              "      <td>OTHER OFFENSE</td>\n",
              "      <td>HARASSMENT BY ELECTRONIC MEANS</td>\n",
              "      <td>RESIDENCE</td>\n",
              "      <td>False</td>\n",
              "      <td>True</td>\n",
              "      <td>...</td>\n",
              "      <td>14.0</td>\n",
              "      <td>63</td>\n",
              "      <td>26</td>\n",
              "      <td>1156929.0</td>\n",
              "      <td>1869004.0</td>\n",
              "      <td>2024</td>\n",
              "      <td>2025-01-31 15:40:40</td>\n",
              "      <td>41.796316</td>\n",
              "      <td>-87.700064</td>\n",
              "      <td>(41.796315735, -87.700063673)</td>\n",
              "    </tr>\n",
              "    <tr>\n",
              "      <th>3</th>\n",
              "      <td>13728836</td>\n",
              "      <td>JJ123618</td>\n",
              "      <td>2024-12-31</td>\n",
              "      <td>071XX S VERNON AVE</td>\n",
              "      <td>1152</td>\n",
              "      <td>DECEPTIVE PRACTICE</td>\n",
              "      <td>ILLEGAL USE CASH CARD</td>\n",
              "      <td>APARTMENT</td>\n",
              "      <td>False</td>\n",
              "      <td>False</td>\n",
              "      <td>...</td>\n",
              "      <td>6.0</td>\n",
              "      <td>69</td>\n",
              "      <td>11</td>\n",
              "      <td>1180479.0</td>\n",
              "      <td>1857851.0</td>\n",
              "      <td>2024</td>\n",
              "      <td>2025-01-27 15:40:44</td>\n",
              "      <td>41.765202</td>\n",
              "      <td>-87.614046</td>\n",
              "      <td>(41.765202297, -87.614046499)</td>\n",
              "    </tr>\n",
              "    <tr>\n",
              "      <th>4</th>\n",
              "      <td>13724075</td>\n",
              "      <td>JJ119468</td>\n",
              "      <td>2024-12-31</td>\n",
              "      <td>052XX S PULASKI RD</td>\n",
              "      <td>0281</td>\n",
              "      <td>CRIMINAL SEXUAL ASSAULT</td>\n",
              "      <td>NON-AGGRAVATED</td>\n",
              "      <td>PARKING LOT / GARAGE (NON RESIDENTIAL)</td>\n",
              "      <td>False</td>\n",
              "      <td>True</td>\n",
              "      <td>...</td>\n",
              "      <td>23.0</td>\n",
              "      <td>62</td>\n",
              "      <td>02</td>\n",
              "      <td>1150587.0</td>\n",
              "      <td>1869670.0</td>\n",
              "      <td>2024</td>\n",
              "      <td>2025-01-22 15:41:07</td>\n",
              "      <td>41.798269</td>\n",
              "      <td>-87.723303</td>\n",
              "      <td>(41.79826919, -87.723303209)</td>\n",
              "    </tr>\n",
              "  </tbody>\n",
              "</table>\n",
              "<p>5 rows × 22 columns</p>\n",
              "</div>\n",
              "    <div class=\"colab-df-buttons\">\n",
              "\n",
              "  <div class=\"colab-df-container\">\n",
              "    <button class=\"colab-df-convert\" onclick=\"convertToInteractive('df-a7a21530-1b02-4961-be4a-7175bd56fc68')\"\n",
              "            title=\"Convert this dataframe to an interactive table.\"\n",
              "            style=\"display:none;\">\n",
              "\n",
              "  <svg xmlns=\"http://www.w3.org/2000/svg\" height=\"24px\" viewBox=\"0 -960 960 960\">\n",
              "    <path d=\"M120-120v-720h720v720H120Zm60-500h600v-160H180v160Zm220 220h160v-160H400v160Zm0 220h160v-160H400v160ZM180-400h160v-160H180v160Zm440 0h160v-160H620v160ZM180-180h160v-160H180v160Zm440 0h160v-160H620v160Z\"/>\n",
              "  </svg>\n",
              "    </button>\n",
              "\n",
              "  <style>\n",
              "    .colab-df-container {\n",
              "      display:flex;\n",
              "      gap: 12px;\n",
              "    }\n",
              "\n",
              "    .colab-df-convert {\n",
              "      background-color: #E8F0FE;\n",
              "      border: none;\n",
              "      border-radius: 50%;\n",
              "      cursor: pointer;\n",
              "      display: none;\n",
              "      fill: #1967D2;\n",
              "      height: 32px;\n",
              "      padding: 0 0 0 0;\n",
              "      width: 32px;\n",
              "    }\n",
              "\n",
              "    .colab-df-convert:hover {\n",
              "      background-color: #E2EBFA;\n",
              "      box-shadow: 0px 1px 2px rgba(60, 64, 67, 0.3), 0px 1px 3px 1px rgba(60, 64, 67, 0.15);\n",
              "      fill: #174EA6;\n",
              "    }\n",
              "\n",
              "    .colab-df-buttons div {\n",
              "      margin-bottom: 4px;\n",
              "    }\n",
              "\n",
              "    [theme=dark] .colab-df-convert {\n",
              "      background-color: #3B4455;\n",
              "      fill: #D2E3FC;\n",
              "    }\n",
              "\n",
              "    [theme=dark] .colab-df-convert:hover {\n",
              "      background-color: #434B5C;\n",
              "      box-shadow: 0px 1px 3px 1px rgba(0, 0, 0, 0.15);\n",
              "      filter: drop-shadow(0px 1px 2px rgba(0, 0, 0, 0.3));\n",
              "      fill: #FFFFFF;\n",
              "    }\n",
              "  </style>\n",
              "\n",
              "    <script>\n",
              "      const buttonEl =\n",
              "        document.querySelector('#df-a7a21530-1b02-4961-be4a-7175bd56fc68 button.colab-df-convert');\n",
              "      buttonEl.style.display =\n",
              "        google.colab.kernel.accessAllowed ? 'block' : 'none';\n",
              "\n",
              "      async function convertToInteractive(key) {\n",
              "        const element = document.querySelector('#df-a7a21530-1b02-4961-be4a-7175bd56fc68');\n",
              "        const dataTable =\n",
              "          await google.colab.kernel.invokeFunction('convertToInteractive',\n",
              "                                                    [key], {});\n",
              "        if (!dataTable) return;\n",
              "\n",
              "        const docLinkHtml = 'Like what you see? Visit the ' +\n",
              "          '<a target=\"_blank\" href=https://colab.research.google.com/notebooks/data_table.ipynb>data table notebook</a>'\n",
              "          + ' to learn more about interactive tables.';\n",
              "        element.innerHTML = '';\n",
              "        dataTable['output_type'] = 'display_data';\n",
              "        await google.colab.output.renderOutput(dataTable, element);\n",
              "        const docLink = document.createElement('div');\n",
              "        docLink.innerHTML = docLinkHtml;\n",
              "        element.appendChild(docLink);\n",
              "      }\n",
              "    </script>\n",
              "  </div>\n",
              "\n",
              "\n",
              "<div id=\"df-21a96b57-2d22-426a-b7f5-58305d2e148d\">\n",
              "  <button class=\"colab-df-quickchart\" onclick=\"quickchart('df-21a96b57-2d22-426a-b7f5-58305d2e148d')\"\n",
              "            title=\"Suggest charts\"\n",
              "            style=\"display:none;\">\n",
              "\n",
              "<svg xmlns=\"http://www.w3.org/2000/svg\" height=\"24px\"viewBox=\"0 0 24 24\"\n",
              "     width=\"24px\">\n",
              "    <g>\n",
              "        <path d=\"M19 3H5c-1.1 0-2 .9-2 2v14c0 1.1.9 2 2 2h14c1.1 0 2-.9 2-2V5c0-1.1-.9-2-2-2zM9 17H7v-7h2v7zm4 0h-2V7h2v10zm4 0h-2v-4h2v4z\"/>\n",
              "    </g>\n",
              "</svg>\n",
              "  </button>\n",
              "\n",
              "<style>\n",
              "  .colab-df-quickchart {\n",
              "      --bg-color: #E8F0FE;\n",
              "      --fill-color: #1967D2;\n",
              "      --hover-bg-color: #E2EBFA;\n",
              "      --hover-fill-color: #174EA6;\n",
              "      --disabled-fill-color: #AAA;\n",
              "      --disabled-bg-color: #DDD;\n",
              "  }\n",
              "\n",
              "  [theme=dark] .colab-df-quickchart {\n",
              "      --bg-color: #3B4455;\n",
              "      --fill-color: #D2E3FC;\n",
              "      --hover-bg-color: #434B5C;\n",
              "      --hover-fill-color: #FFFFFF;\n",
              "      --disabled-bg-color: #3B4455;\n",
              "      --disabled-fill-color: #666;\n",
              "  }\n",
              "\n",
              "  .colab-df-quickchart {\n",
              "    background-color: var(--bg-color);\n",
              "    border: none;\n",
              "    border-radius: 50%;\n",
              "    cursor: pointer;\n",
              "    display: none;\n",
              "    fill: var(--fill-color);\n",
              "    height: 32px;\n",
              "    padding: 0;\n",
              "    width: 32px;\n",
              "  }\n",
              "\n",
              "  .colab-df-quickchart:hover {\n",
              "    background-color: var(--hover-bg-color);\n",
              "    box-shadow: 0 1px 2px rgba(60, 64, 67, 0.3), 0 1px 3px 1px rgba(60, 64, 67, 0.15);\n",
              "    fill: var(--button-hover-fill-color);\n",
              "  }\n",
              "\n",
              "  .colab-df-quickchart-complete:disabled,\n",
              "  .colab-df-quickchart-complete:disabled:hover {\n",
              "    background-color: var(--disabled-bg-color);\n",
              "    fill: var(--disabled-fill-color);\n",
              "    box-shadow: none;\n",
              "  }\n",
              "\n",
              "  .colab-df-spinner {\n",
              "    border: 2px solid var(--fill-color);\n",
              "    border-color: transparent;\n",
              "    border-bottom-color: var(--fill-color);\n",
              "    animation:\n",
              "      spin 1s steps(1) infinite;\n",
              "  }\n",
              "\n",
              "  @keyframes spin {\n",
              "    0% {\n",
              "      border-color: transparent;\n",
              "      border-bottom-color: var(--fill-color);\n",
              "      border-left-color: var(--fill-color);\n",
              "    }\n",
              "    20% {\n",
              "      border-color: transparent;\n",
              "      border-left-color: var(--fill-color);\n",
              "      border-top-color: var(--fill-color);\n",
              "    }\n",
              "    30% {\n",
              "      border-color: transparent;\n",
              "      border-left-color: var(--fill-color);\n",
              "      border-top-color: var(--fill-color);\n",
              "      border-right-color: var(--fill-color);\n",
              "    }\n",
              "    40% {\n",
              "      border-color: transparent;\n",
              "      border-right-color: var(--fill-color);\n",
              "      border-top-color: var(--fill-color);\n",
              "    }\n",
              "    60% {\n",
              "      border-color: transparent;\n",
              "      border-right-color: var(--fill-color);\n",
              "    }\n",
              "    80% {\n",
              "      border-color: transparent;\n",
              "      border-right-color: var(--fill-color);\n",
              "      border-bottom-color: var(--fill-color);\n",
              "    }\n",
              "    90% {\n",
              "      border-color: transparent;\n",
              "      border-bottom-color: var(--fill-color);\n",
              "    }\n",
              "  }\n",
              "</style>\n",
              "\n",
              "  <script>\n",
              "    async function quickchart(key) {\n",
              "      const quickchartButtonEl =\n",
              "        document.querySelector('#' + key + ' button');\n",
              "      quickchartButtonEl.disabled = true;  // To prevent multiple clicks.\n",
              "      quickchartButtonEl.classList.add('colab-df-spinner');\n",
              "      try {\n",
              "        const charts = await google.colab.kernel.invokeFunction(\n",
              "            'suggestCharts', [key], {});\n",
              "      } catch (error) {\n",
              "        console.error('Error during call to suggestCharts:', error);\n",
              "      }\n",
              "      quickchartButtonEl.classList.remove('colab-df-spinner');\n",
              "      quickchartButtonEl.classList.add('colab-df-quickchart-complete');\n",
              "    }\n",
              "    (() => {\n",
              "      let quickchartButtonEl =\n",
              "        document.querySelector('#df-21a96b57-2d22-426a-b7f5-58305d2e148d button');\n",
              "      quickchartButtonEl.style.display =\n",
              "        google.colab.kernel.accessAllowed ? 'block' : 'none';\n",
              "    })();\n",
              "  </script>\n",
              "</div>\n",
              "\n",
              "    </div>\n",
              "  </div>\n"
            ],
            "application/vnd.google.colaboratory.intrinsic+json": {
              "type": "dataframe",
              "variable_name": "df"
            }
          },
          "metadata": {},
          "execution_count": 4
        }
      ]
    },
    {
      "cell_type": "code",
      "source": [
        "# Step 1.2: Count total number of crimes (C) for each community"
      ],
      "metadata": {
        "id": "innTLfpe_Ytt"
      },
      "execution_count": null,
      "outputs": []
    },
    {
      "cell_type": "code",
      "source": [
        "crime_counts = df.groupby('Community Area').size().reset_index(name='Total_Crimes')"
      ],
      "metadata": {
        "id": "F8mWU8ji_c8N"
      },
      "execution_count": 5,
      "outputs": []
    },
    {
      "cell_type": "code",
      "source": [
        "# Step 1.3: Calculate S (proportion of violent crimes)"
      ],
      "metadata": {
        "id": "al2faIDb_fee"
      },
      "execution_count": null,
      "outputs": []
    },
    {
      "cell_type": "code",
      "source": [
        "# Define list of violent crime types\n",
        "violent_crimes = ['BATTERY', 'ASSAULT', 'ROBBERY', 'HOMICIDE', 'CRIM SEXUAL ASSAULT', 'WEAPONS VIOLATION']\n",
        "\n",
        "# Mark whether the crime is violent\n",
        "df['Is_Violent'] = df['Primary Type'].isin(violent_crimes)\n",
        "\n",
        "# Count violent crimes for each community\n",
        "violent_counts = df.groupby('Community Area')['Is_Violent'].sum().reset_index(name='Violent_Crimes')\n",
        "\n",
        "# Merge total crimes and violent crimes, then calculate the ratio\n",
        "merged_s = pd.merge(crime_counts, violent_counts, on='Community Area')\n",
        "merged_s['Violent_Ratio'] = merged_s['Violent_Crimes'] / merged_s['Total_Crimes']"
      ],
      "metadata": {
        "id": "Ywpf-dkv_gPr"
      },
      "execution_count": 6,
      "outputs": []
    },
    {
      "cell_type": "code",
      "source": [
        "# Step 1.4: Calculate T (proportion of nighttime crimes)"
      ],
      "metadata": {
        "id": "aDL5JRzM_qJ0"
      },
      "execution_count": null,
      "outputs": []
    },
    {
      "cell_type": "code",
      "source": [
        "# Extract hour from the 'Date' column\n",
        "df['Hour'] = df['Date'].dt.hour\n",
        "\n",
        "# Determine if it's nighttime: from 6 PM (18) to 6 AM (before 6)\n",
        "df['Is_Night'] = df['Hour'].apply(lambda x: x >= 18 or x < 6)\n",
        "\n",
        "# Count nighttime crimes\n",
        "night_counts = df.groupby('Community Area')['Is_Night'].sum().reset_index(name='Night_Crimes')\n",
        "\n",
        "# Merge and calculate ratio\n",
        "merged_t = pd.merge(merged_s, night_counts, on='Community Area')\n",
        "merged_t['Night_Ratio'] = merged_t['Night_Crimes'] / merged_t['Total_Crimes']"
      ],
      "metadata": {
        "id": "mkMM0vs2_9OG"
      },
      "execution_count": 7,
      "outputs": []
    },
    {
      "cell_type": "code",
      "source": [
        "# Step 1.5: Calculate A (arrest rate)"
      ],
      "metadata": {
        "id": "CPvNGMDY_-9j"
      },
      "execution_count": null,
      "outputs": []
    },
    {
      "cell_type": "code",
      "source": [
        "# Count number of arrests (where 'Arrest' is True)\n",
        "arrest_counts = df.groupby('Community Area')['Arrest'].sum().reset_index(name='Arrest_Count')\n",
        "\n",
        "# Merge and calculate arrest rate\n",
        "merged_a = pd.merge(merged_t, arrest_counts, on='Community Area')\n",
        "merged_a['Arrest_Rate'] = merged_a['Arrest_Count'] / merged_a['Total_Crimes']"
      ],
      "metadata": {
        "id": "YdbUWKbS__fo"
      },
      "execution_count": 8,
      "outputs": []
    },
    {
      "cell_type": "code",
      "source": [
        "# Step 1.6: Normalize all indicators and calculate final CRS score"
      ],
      "metadata": {
        "id": "Iz8GJksMAHx-"
      },
      "execution_count": null,
      "outputs": []
    },
    {
      "cell_type": "code",
      "source": [
        "# To align direction: use (1 - Arrest_Rate), fewer arrests imply higher risk\n",
        "merged_a['Adj_Arrest'] = 1 - merged_a['Arrest_Rate']\n",
        "\n",
        "# Normalization function (Min-Max scaling)\n",
        "def normalize(series):\n",
        "    return (series - series.min()) / (series.max() - series.min())\n",
        "\n",
        "# Normalize the four indicators\n",
        "merged_a['C_norm'] = normalize(merged_a['Total_Crimes'])\n",
        "merged_a['S_norm'] = normalize(merged_a['Violent_Ratio'])\n",
        "merged_a['T_norm'] = normalize(merged_a['Night_Ratio'])\n",
        "merged_a['A_norm'] = normalize(merged_a['Adj_Arrest'])\n",
        "\n",
        "# Set weights\n",
        "w1, w2, w3, w4 = 0.4, 0.3, 0.2, 0.1\n",
        "\n",
        "# Calculate overall CRS score and map it to 0–100 range\n",
        "merged_a['CRS_Score'] = (\n",
        "    w1 * merged_a['C_norm'] +\n",
        "    w2 * merged_a['S_norm'] +\n",
        "    w3 * merged_a['T_norm'] +\n",
        "    w4 * merged_a['A_norm']\n",
        ") * 100\n",
        "\n",
        "# Assign labels: Low / Medium / High\n",
        "def label_risk(score):\n",
        "    if score <= 30:\n",
        "        return 'Low'\n",
        "    elif score <= 60:\n",
        "        return 'Medium'\n",
        "    else:\n",
        "        return 'High'\n",
        "\n",
        "merged_a['Risk_Level'] = merged_a['CRS_Score'].apply(label_risk)"
      ],
      "metadata": {
        "id": "PoUbEoJ0AIN9"
      },
      "execution_count": 9,
      "outputs": []
    },
    {
      "cell_type": "code",
      "source": [
        "# Step 1.7: Export as CRS score table CSV file"
      ],
      "metadata": {
        "id": "VmHKYsNKAcVS"
      },
      "execution_count": null,
      "outputs": []
    },
    {
      "cell_type": "code",
      "source": [
        "output_path = '/content/drive/My Drive/IDS 575 Final project/community_crs_scores.csv'\n",
        "\n",
        "# Select output columns\n",
        "final_df = merged_a[[\n",
        "    'Community Area', 'Total_Crimes', 'Violent_Ratio',\n",
        "    'Night_Ratio', 'Arrest_Rate', 'CRS_Score', 'Risk_Level'\n",
        "]]\n",
        "\n",
        "# Save to CSV\n",
        "final_df.to_csv(output_path, index=False)\n",
        "print(\"CRS score table saved successfully!\")"
      ],
      "metadata": {
        "colab": {
          "base_uri": "https://localhost:8080/"
        },
        "id": "PlHC8cjFAa2t",
        "outputId": "fbc07948-d2a2-4e42-dfec-f8a47e5473ba"
      },
      "execution_count": 10,
      "outputs": [
        {
          "output_type": "stream",
          "name": "stdout",
          "text": [
            "CRS score table saved successfully!\n"
          ]
        }
      ]
    },
    {
      "cell_type": "code",
      "source": [
        "# Step 2: Locate crimes within 500 meters of user-provided address and calculate risk indicators"
      ],
      "metadata": {
        "id": "orpeLeTgClfu"
      },
      "execution_count": null,
      "outputs": []
    },
    {
      "cell_type": "code",
      "source": [
        "import pandas as pd\n",
        "import numpy as np\n",
        "import requests\n",
        "from math import radians, cos, sin, asin, sqrt\n",
        "\n",
        "# Load cleaned crime data\n",
        "file_path = '/content/drive/My Drive/IDS 575 Final project/cleaned_crimes_data.csv'\n",
        "df = pd.read_csv(file_path, parse_dates=['Date'])\n",
        "\n",
        "# Check if required columns are present\n",
        "print(df.columns)"
      ],
      "metadata": {
        "colab": {
          "base_uri": "https://localhost:8080/"
        },
        "id": "Sh5Q3-VaEuTk",
        "outputId": "eb8238e5-24a6-464b-b6aa-46292b2e576f"
      },
      "execution_count": 11,
      "outputs": [
        {
          "output_type": "stream",
          "name": "stdout",
          "text": [
            "Index(['ID', 'Case Number', 'Date', 'Block', 'IUCR', 'Primary Type',\n",
            "       'Description', 'Location Description', 'Arrest', 'Domestic', 'Beat',\n",
            "       'District', 'Ward', 'Community Area', 'FBI Code', 'X Coordinate',\n",
            "       'Y Coordinate', 'Year', 'Updated On', 'Latitude', 'Longitude',\n",
            "       'Location'],\n",
            "      dtype='object')\n"
          ]
        }
      ]
    },
    {
      "cell_type": "code",
      "source": [
        "# Step 2.2: Define function to get latitude and longitude from address (using Google Geocoding API)"
      ],
      "metadata": {
        "id": "66WygJsdEwFn"
      },
      "execution_count": null,
      "outputs": []
    },
    {
      "cell_type": "code",
      "source": [
        "from getpass import getpass\n",
        "GOOGLE_API_KEY = getpass(\"Please enter your Google Maps API key:\")"
      ],
      "metadata": {
        "colab": {
          "base_uri": "https://localhost:8080/"
        },
        "id": "JicMAhgWFY53",
        "outputId": "b67cf16e-e351-402f-e7b3-839094428bc9"
      },
      "execution_count": 12,
      "outputs": [
        {
          "name": "stdout",
          "output_type": "stream",
          "text": [
            "Please enter your Google Maps API key:··········\n"
          ]
        }
      ]
    },
    {
      "cell_type": "code",
      "source": [
        "def get_lat_lon_from_address(address):\n",
        "    base_url = \"https://maps.googleapis.com/maps/api/geocode/json\"\n",
        "    params = {\n",
        "        'address': address,\n",
        "        'key': GOOGLE_API_KEY\n",
        "    }\n",
        "    response = requests.get(base_url, params=params).json()\n",
        "\n",
        "    if response['status'] == 'OK':\n",
        "        location = response['results'][0]['geometry']['location']\n",
        "        return location['lat'], location['lng']\n",
        "    else:\n",
        "        print(\"Failed to parse address:\", response['status'])\n",
        "        return None, None"
      ],
      "metadata": {
        "id": "zozPAYxlE0t9"
      },
      "execution_count": 13,
      "outputs": []
    },
    {
      "cell_type": "code",
      "source": [
        "# Step 2.3: Define function to calculate distance between two points (Haversine formula)"
      ],
      "metadata": {
        "id": "if7SNntnE6sk"
      },
      "execution_count": null,
      "outputs": []
    },
    {
      "cell_type": "code",
      "source": [
        "def haversine_distance(lat1, lon1, lat2, lon2):\n",
        "    R = 6371.0              # Radius of the Earth (in kilometers)\n",
        "    lat1, lon1, lat2, lon2 = map(radians, [lat1, lon1, lat2, lon2])  # Convert to radians\n",
        "\n",
        "    dlat = lat2 - lat1\n",
        "    dlon = lon2 - lon1\n",
        "\n",
        "    a = sin(dlat/2)**2 + cos(lat1)*cos(lat2)*sin(dlon/2)**2\n",
        "    c = 2 * asin(sqrt(a))\n",
        "\n",
        "    distance = R * c\n",
        "    return distance * 1000  # Convert to meters"
      ],
      "metadata": {
        "id": "sbuVDEkaE8sX"
      },
      "execution_count": 14,
      "outputs": []
    },
    {
      "cell_type": "code",
      "source": [
        "# Load mapping table of community area numbers and names\n",
        "area_path = '/content/drive/My Drive/IDS 575 Final project/community_areas.csv'\n",
        "area_df = pd.read_csv(area_path)\n",
        "area_map = dict(zip(area_df['Community Area'], area_df['Area Name']))"
      ],
      "metadata": {
        "id": "pkz0FqHSDp0U"
      },
      "execution_count": 15,
      "outputs": []
    },
    {
      "cell_type": "code",
      "source": [
        "# Step 2.4: Calculate crimes within 500 meters of a given address and output risk indicators"
      ],
      "metadata": {
        "id": "35K7Ut8gFAiQ"
      },
      "execution_count": null,
      "outputs": []
    },
    {
      "cell_type": "code",
      "source": [
        "def analyze_risk_nearby(address):\n",
        "    # Get latitude and longitude from the address\n",
        "    lat, lon = get_lat_lon_from_address(address)\n",
        "    if lat is None:\n",
        "        return\n",
        "\n",
        "    # Find all crimes within 500 meters\n",
        "    df['distance'] = df.apply(lambda row: haversine_distance(lat, lon, row['Latitude'], row['Longitude']), axis=1)\n",
        "    nearby = df[df['distance'] <= 500]\n",
        "\n",
        "    if nearby.empty:\n",
        "        print(\"No crime records within 500 meters of the address.\")\n",
        "        return\n",
        "\n",
        "    # Identify the nearest crime to determine the community area\n",
        "    nearest = nearby.loc[nearby['distance'].idxmin()]\n",
        "    community_area = int(nearest['Community Area']) if not pd.isna(nearest['Community Area']) else 'Unknown'\n",
        "    area_name = area_map.get(community_area, \"Unknown Area\")\n",
        "\n",
        "    # Look up CRS score for the area\n",
        "    crs_score_area = None\n",
        "    if community_area is not None:\n",
        "        match_row = final_df[final_df['Community Area'] == community_area]\n",
        "        if not match_row.empty:\n",
        "            crs_score_area = match_row.iloc[0]['CRS_Score']\n",
        "\n",
        "    # Calculate four risk indicators\n",
        "    C = len(nearby)\n",
        "\n",
        "    violent_types = ['BATTERY', 'ASSAULT', 'ROBBERY', 'HOMICIDE']\n",
        "    S = len(nearby[nearby['Primary Type'].isin(violent_types)]) / C\n",
        "\n",
        "    # Extract hour from datetime\n",
        "    hours = nearby['Date'].dt.hour\n",
        "    T = len(nearby[(hours >= 18) | (hours < 6)]) / C\n",
        "\n",
        "    A = len(nearby[nearby['Arrest'] == True]) / C\n",
        "\n",
        "    # Calculate a simple CRS score (normalized proportions)\n",
        "    w1, w2, w3, w4 = 0.4, 0.3, 0.2, 0.1\n",
        "    C_norm = np.log1p(C) / 10  # log(1+C), scaled to roughly 0–1.5\n",
        "    CRS = (w1*C_norm + w2*S + w3*T + w4*(1 - A)) * 100\n",
        "\n",
        "    print(f\"Address: {address}\")\n",
        "    print(f\"Community Area: {community_area} - {area_name}\")\n",
        "    if crs_score_area is not None:\n",
        "        print(f\"CRS score for the area: {crs_score_area:>6.2f}\")\n",
        "    print(\"\\nRisk data within 500 meters of the address:\")\n",
        "    print(f\"Total crimes (C):            {C:>6}\")\n",
        "    print(f\"Violent crime ratio (S):     {S:>6.2%}\")\n",
        "    print(f\"Nighttime crime ratio (T):   {T:>6.2%}\")\n",
        "    print(f\"Arrest rate (A):             {A:>6.2%}\")\n",
        "    print(f\"CRS score (within 500m):     {CRS:>6.2f}\")"
      ],
      "metadata": {
        "id": "gcQA6OwhE_k2"
      },
      "execution_count": 16,
      "outputs": []
    },
    {
      "cell_type": "code",
      "source": [
        "user_input = input(\"Please enter the Chicago address you want to check (e.g., '233 S Wacker Dr, Chicago, IL'):\\n\")\n",
        "\n",
        "analyze_risk_nearby(user_input)"
      ],
      "metadata": {
        "colab": {
          "base_uri": "https://localhost:8080/"
        },
        "id": "_KetAxyKFm6-",
        "outputId": "0cf6b6e5-6f0a-4dd9-8b38-d7d2e6b54ea5"
      },
      "execution_count": 17,
      "outputs": [
        {
          "output_type": "stream",
          "name": "stdout",
          "text": [
            "Please enter the Chicago address you want to check (e.g., '233 S Wacker Dr, Chicago, IL'):\n",
            "233 S Wacker Dr, Chicago, IL\n",
            "Address: 233 S Wacker Dr, Chicago, IL\n",
            "Community Area: 32 - Loop\n",
            "CRS score for the area:  37.77\n",
            "\n",
            "Risk data within 500 meters of the address:\n",
            "Total crimes (C):              3138\n",
            "Violent crime ratio (S):     20.01%\n",
            "Nighttime crime ratio (T):   37.44%\n",
            "Arrest rate (A):              8.86%\n",
            "CRS score (within 500m):      54.81\n"
          ]
        }
      ]
    },
    {
      "cell_type": "code",
      "source": [
        "import openai\n",
        "from getpass import getpass\n",
        "openai.api_key = getpass(\"Please enter your OpenAI API key:\")"
      ],
      "metadata": {
        "colab": {
          "base_uri": "https://localhost:8080/"
        },
        "id": "tQYaaiB6HHgP",
        "outputId": "2a2a4f29-ca5a-41a5-ff72-7c19c94d31b2"
      },
      "execution_count": 18,
      "outputs": [
        {
          "name": "stdout",
          "output_type": "stream",
          "text": [
            "Please enter your OpenAI API key:··········\n"
          ]
        }
      ]
    },
    {
      "cell_type": "code",
      "source": [
        "user_input = input(\"Please enter the full address risk report text:\\n\")"
      ],
      "metadata": {
        "colab": {
          "base_uri": "https://localhost:8080/"
        },
        "id": "c_DcG6KtHQsc",
        "outputId": "b4a63adc-ee42-464f-858c-726f78975c63"
      },
      "execution_count": 19,
      "outputs": [
        {
          "name": "stdout",
          "output_type": "stream",
          "text": [
            "Please enter the full address risk report text:\n",
            "Please enter the Chicago address you want to check (e.g., '233 S Wacker Dr, Chicago, IL'): 233 S Wacker Dr, Chicago, IL Address: 233 S Wacker Dr, Chicago, IL Community Area: 32 - Loop CRS score for the area:  37.77  Risk data within 500 meters of the address: Total crimes (C):              3138 Violent crime ratio (S):     20.01% Nighttime crime ratio (T):   37.44% Arrest rate (A):              8.86% CRS score (within 500m):      54.81\n"
          ]
        }
      ]
    },
    {
      "cell_type": "code",
      "source": [
        "!pip install openai==0.28"
      ],
      "metadata": {
        "colab": {
          "base_uri": "https://localhost:8080/",
          "height": 530
        },
        "id": "p5nn0cIKWQ5K",
        "outputId": "354da443-cd91-4731-c0d9-e9eabe012dc5"
      },
      "execution_count": 21,
      "outputs": [
        {
          "output_type": "stream",
          "name": "stdout",
          "text": [
            "Collecting openai==0.28\n",
            "  Downloading openai-0.28.0-py3-none-any.whl.metadata (13 kB)\n",
            "Requirement already satisfied: requests>=2.20 in /usr/local/lib/python3.11/dist-packages (from openai==0.28) (2.32.3)\n",
            "Requirement already satisfied: tqdm in /usr/local/lib/python3.11/dist-packages (from openai==0.28) (4.67.1)\n",
            "Requirement already satisfied: aiohttp in /usr/local/lib/python3.11/dist-packages (from openai==0.28) (3.11.15)\n",
            "Requirement already satisfied: charset-normalizer<4,>=2 in /usr/local/lib/python3.11/dist-packages (from requests>=2.20->openai==0.28) (3.4.1)\n",
            "Requirement already satisfied: idna<4,>=2.5 in /usr/local/lib/python3.11/dist-packages (from requests>=2.20->openai==0.28) (3.10)\n",
            "Requirement already satisfied: urllib3<3,>=1.21.1 in /usr/local/lib/python3.11/dist-packages (from requests>=2.20->openai==0.28) (2.3.0)\n",
            "Requirement already satisfied: certifi>=2017.4.17 in /usr/local/lib/python3.11/dist-packages (from requests>=2.20->openai==0.28) (2025.1.31)\n",
            "Requirement already satisfied: aiohappyeyeballs>=2.3.0 in /usr/local/lib/python3.11/dist-packages (from aiohttp->openai==0.28) (2.6.1)\n",
            "Requirement already satisfied: aiosignal>=1.1.2 in /usr/local/lib/python3.11/dist-packages (from aiohttp->openai==0.28) (1.3.2)\n",
            "Requirement already satisfied: attrs>=17.3.0 in /usr/local/lib/python3.11/dist-packages (from aiohttp->openai==0.28) (25.3.0)\n",
            "Requirement already satisfied: frozenlist>=1.1.1 in /usr/local/lib/python3.11/dist-packages (from aiohttp->openai==0.28) (1.6.0)\n",
            "Requirement already satisfied: multidict<7.0,>=4.5 in /usr/local/lib/python3.11/dist-packages (from aiohttp->openai==0.28) (6.4.3)\n",
            "Requirement already satisfied: propcache>=0.2.0 in /usr/local/lib/python3.11/dist-packages (from aiohttp->openai==0.28) (0.3.1)\n",
            "Requirement already satisfied: yarl<2.0,>=1.17.0 in /usr/local/lib/python3.11/dist-packages (from aiohttp->openai==0.28) (1.20.0)\n",
            "Downloading openai-0.28.0-py3-none-any.whl (76 kB)\n",
            "\u001b[2K   \u001b[90m━━━━━━━━━━━━━━━━━━━━━━━━━━━━━━━━━━━━━━━━\u001b[0m \u001b[32m76.5/76.5 kB\u001b[0m \u001b[31m2.4 MB/s\u001b[0m eta \u001b[36m0:00:00\u001b[0m\n",
            "\u001b[?25hInstalling collected packages: openai\n",
            "  Attempting uninstall: openai\n",
            "    Found existing installation: openai 1.75.0\n",
            "    Uninstalling openai-1.75.0:\n",
            "      Successfully uninstalled openai-1.75.0\n",
            "Successfully installed openai-0.28.0\n"
          ]
        },
        {
          "output_type": "display_data",
          "data": {
            "application/vnd.colab-display-data+json": {
              "pip_warning": {
                "packages": [
                  "openai"
                ]
              },
              "id": "b94989c2f7d648ee8b11783ffbd73002"
            }
          },
          "metadata": {}
        }
      ]
    },
    {
      "cell_type": "code",
      "source": [
        "# Compose prompt\n",
        "prompt = f\"\"\"\n",
        "Below is a safety analysis report for a specific address:\n",
        "\n",
        "{user_input}\n",
        "\n",
        "Based on this report, please provide 4–5 travel safety suggestions for tourists.\n",
        "Use both the area-level score and the local risk indicators within 500 meters to support your advice.\n",
        "Also, determine which part of the area (East, South, West, North) the address is located in,\n",
        "and compare the local crime situation with the overall community area.\n",
        "\"\"\"\n",
        "\n",
        "# Step 3: Call ChatGPT API\n",
        "response = openai.ChatCompletion.create(\n",
        "    model=\"gpt-4\",\n",
        "    messages=[\n",
        "        {\"role\": \"system\", \"content\": \"You are a safety advisor specializing in travel around Chicago. You provide practical travel advice for tourists.\"},\n",
        "        {\"role\": \"user\", \"content\": prompt}\n",
        "    ],\n",
        "    temperature=0.7\n",
        ")"
      ],
      "metadata": {
        "id": "MIydBM6jHU2Z"
      },
      "execution_count": 20,
      "outputs": []
    },
    {
      "cell_type": "code",
      "source": [
        "advice = response['choices'][0]['message']['content']\n",
        "print(\"Travel Advice:\\n\")\n",
        "print(advice)"
      ],
      "metadata": {
        "colab": {
          "base_uri": "https://localhost:8080/"
        },
        "id": "gX40lI8NHXob",
        "outputId": "23b73c8a-8c46-4712-cd42-6f5d0182c65a"
      },
      "execution_count": 21,
      "outputs": [
        {
          "output_type": "stream",
          "name": "stdout",
          "text": [
            "Travel Advice:\n",
            "\n",
            "1. Be Vigilant: Given the high total crime rate (3138 crimes) within a 500m radius of the address, it's important to remain vigilant and aware of your surroundings at all times. This is particularly true during the night, where the nighttime crime ratio is 37.44%. \n",
            "\n",
            "2. Avoid Late Night Walks: Considering that the nighttime crime ratio (37.44%) is higher than the daytime, it is safer to avoid late-night walks. If necessary, consider using a trusted taxi service or rideshare app for transportation during these hours.\n",
            "\n",
            "3. Stick to Crowded Areas: With a violent crime ratio of 20.01%, tourists should stick to crowded and well-lit areas, especially at night. Avoid taking shortcuts through alleyways or less-trafficked streets. \n",
            "\n",
            "4. Secure Valuables: Given the overall crime rate, securing your valuables is crucial. Don't display expensive jewelry or electronics in public, and always make sure your belongings are secure and close to you.\n",
            "\n",
            "5. Be Aware of Local Enforcement: The arrest rate of 8.86% implies that law enforcement is active in the area. Don’t hesitate to approach them for help or direction if needed.\n",
            "\n",
            "The address is located in the Loop area, which is considered the central business district of Chicago. The Loop area has a CRS score of 37.77, which is lower than the local CRS score within 500m (54.81), indicating a higher crime rate in the immediate vicinity of the address compared to the overall community area. \n",
            "\n",
            "Stay safe and enjoy your visit to Chicago!\n"
          ]
        }
      ]
    },
    {
      "cell_type": "markdown",
      "source": [
        "Travel Advice:\n",
        "\n",
        "1. Be Vigilant: Given the high total crime rate (3138 crimes) within a 500m radius of the address, it's important to remain vigilant and aware of your surroundings at all times. This is particularly true during the night, where the nighttime crime ratio is 37.44%.\n",
        "\n",
        "2. Avoid Late Night Walks: Considering that the nighttime crime ratio (37.44%) is higher than the daytime, it is safer to avoid late-night walks. If necessary, consider using a trusted taxi service or rideshare app for transportation during these hours.\n",
        "\n",
        "3. Stick to Crowded Areas: With a violent crime ratio of 20.01%, tourists should stick to crowded and well-lit areas, especially at night. Avoid taking shortcuts through alleyways or less-trafficked streets.\n",
        "\n",
        "4. Secure Valuables: Given the overall crime rate, securing your valuables is crucial. Don't display expensive jewelry or electronics in public, and always make sure your belongings are secure and close to you.\n",
        "\n",
        "5. Be Aware of Local Enforcement: The arrest rate of 8.86% implies that law enforcement is active in the area. Don’t hesitate to approach them for help or direction if needed.\n",
        "\n",
        "The address is located in the Loop area, which is considered the central business district of Chicago. The Loop area has a CRS score of 37.77, which is lower than the local CRS score within 500m (54.81), indicating a higher crime rate in the immediate vicinity of the address compared to the overall community area.\n",
        "\n",
        "Stay safe and enjoy your visit to Chicago!"
      ],
      "metadata": {
        "id": "d1a6blt0Ro8J"
      }
    }
  ]
}